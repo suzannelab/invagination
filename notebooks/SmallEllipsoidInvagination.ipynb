{
 "cells": [
  {
   "cell_type": "markdown",
   "metadata": {},
   "source": [
    "> Run the cell bellow first then restart the notebook (click ↺ above)"
   ]
  },
  {
   "cell_type": "code",
   "execution_count": null,
   "metadata": {},
   "outputs": [],
   "source": [
    "%pip install -e .."
   ]
  },
  {
   "cell_type": "markdown",
   "metadata": {},
   "source": [
    "### Imports"
   ]
  },
  {
   "cell_type": "code",
   "execution_count": null,
   "metadata": {},
   "outputs": [],
   "source": [
    "# Import \n",
    "import os\n",
    "import time\n",
    "import datetime\n",
    "import numpy as np\n",
    "from ipywidgets import IntProgress, interact\n",
    "from IPython.display import display\n",
    "from pathlib import Path\n",
    "import ipyvolume as ipv\n",
    "\n",
    "import matplotlib.pyplot as plt\n",
    "%matplotlib inline\n",
    "\n",
    "\n",
    "## The tyssue library provides the core data structures and\n",
    "## geometry objects\n",
    "## See https://gihub.com/DamCB/tyssue\n",
    "\n",
    "\n",
    "from tyssue import Sheet, config\n",
    "from tyssue.io import hdf5\n",
    "from tyssue.draw import sheet_view\n",
    "from tyssue.dynamics import effectors, model_factory \n",
    "\n",
    "from tyssue.generation import ellipsoid_sheet\n",
    "from tyssue.behaviors.event_manager import EventManager\n",
    "from tyssue.behaviors.sheet.delamination_events import constriction\n",
    "\n",
    "from tyssue.solvers.quasistatic import QSSolver\n",
    "from tyssue.geometry.sheet_geometry import EllipsoidGeometry as geom\n",
    "\n",
    "## The invagination module in this repository provides defintions\n",
    "## specific to mesoderm invagination\n",
    "\n",
    "from invagination.ellipsoid import initiate_ellipsoid, define_mesoderm\n",
    "from invagination.delamination import delamination_process, constriction_rate\n",
    "from invagination.plots import mesoderm_position\n",
    "from invagination.ellipsoid import VitellineElasticity, RadialTension\n",
    "\n",
    "\n",
    "SIM_DIR = Path(os.environ.get('SIM_DIR', ''))\n",
    "today = datetime.date.today()\n",
    "\n",
    "sim_save_dir = SIM_DIR/f'{today.isoformat()}_smallellipsoid'\n",
    "try:\n",
    "    os.mkdir(sim_save_dir)\n",
    "except FileExistsError:\n",
    "    pass"
   ]
  },
  {
   "cell_type": "code",
   "execution_count": null,
   "metadata": {},
   "outputs": [],
   "source": []
  },
  {
   "cell_type": "markdown",
   "metadata": {},
   "source": [
    "## Parameters\n",
    "\n"
   ]
  },
  {
   "cell_type": "code",
   "execution_count": null,
   "metadata": {},
   "outputs": [],
   "source": [
    "specs =  {\n",
    "    'vert': {\n",
    "        'height': 0,\n",
    "        'basal_shift': 0,\n",
    "        'delta_rho': 30,\n",
    "        'vitelline_K': 280.0,\n",
    "        'radial_tension': 0},\n",
    "    'face': {\n",
    "        'contractility': 1.12,\n",
    "        'prefered_area': 22,\n",
    "        'area_elasticity': 1,\n",
    "        'surface_tension': 10.\n",
    "    },\n",
    "    'edge': {\n",
    "        'line_tension': 0.0,\n",
    "    },\n",
    "    'settings': {\n",
    "        'abc': [12, 12, 21.0], # Ellipsoid axes\n",
    "        'geometry': 'cylindrical',\n",
    "        'height_axis': 'z',\n",
    "        'vitelline_space': 0.2,\n",
    "        'threshold_length': 1e-3,\n",
    "    }\n",
    "}\n"
   ]
  },
  {
   "cell_type": "markdown",
   "metadata": {},
   "source": [
    "## Epithelium generation\n",
    "\n",
    "`tyssue` provides functions to create epithelium with various base geometries, such as planes or ellipses."
   ]
  },
  {
   "cell_type": "code",
   "execution_count": null,
   "metadata": {},
   "outputs": [],
   "source": [
    "sheet = ellipsoid_sheet(*specs['settings']['abc'], 13)\n",
    "print(f'The sheet has {sheet.Nf} vertices')\n",
    "sheet.update_specs(specs)\n",
    "\n",
    "\n",
    "geom.update_all(sheet)\n",
    "\n",
    "def draw_specs(sheet):\n",
    "    specs = {\n",
    "        'edge': {\n",
    "            'visible': True,\n",
    "            'color': sheet.vert_df.y\n",
    "        },\n",
    "        'face': {\n",
    "            'visible': True,\n",
    "            'color': sheet.face_df.area,\n",
    "            'colormap': 'Blues'\n",
    "        }\n",
    "    }\n",
    "    return specs\n",
    "\n",
    "ipv.clear()\n",
    "ipv_fig, meshes = sheet_view(sheet, coords=list('zxy'),\n",
    "                             mode='3D', **draw_specs(sheet))\n",
    "ipv_fig"
   ]
  },
  {
   "cell_type": "markdown",
   "metadata": {},
   "source": [
    "## Quasi-static model for mesoderm invagination\n",
    "\n",
    "\n",
    "$$E = \\sum_\\alpha \\frac{1}{2}\\left(K_A(A - A_0)^2 + \\Gamma L_\\alpha^2\\right) \n",
    "     + \\sum_i \\left(\\delta_i R_i h_i + \\frac{K_v}{2} r_i^2\\right) + \\frac{K_Y}{2}(V-V_0)^2$$ "
   ]
  },
  {
   "cell_type": "code",
   "execution_count": null,
   "metadata": {},
   "outputs": [],
   "source": [
    "model = model_factory(\n",
    "    [\n",
    "        RadialTension,\n",
    "        VitellineElasticity,\n",
    "        effectors.FaceContractility,\n",
    "        effectors.FaceAreaElasticity,\n",
    "        effectors.LumenVolumeElasticity,\n",
    "    ])"
   ]
  },
  {
   "cell_type": "code",
   "execution_count": null,
   "metadata": {},
   "outputs": [],
   "source": [
    "print('Our model has the following elements :')\n",
    "print('\\t', *model.labels, sep='\\n\\t')"
   ]
  },
  {
   "cell_type": "code",
   "execution_count": null,
   "metadata": {},
   "outputs": [],
   "source": [
    "# Modify some initial values\n",
    "sheet.face_df['prefered_area'] = sheet.face_df['area'].mean()\n",
    "sheet.settings['lumen_prefered_vol'] = 12666\n",
    "sheet.settings['lumen_vol'] = 11626\n",
    "sheet.settings['lumen_vol_elasticity'] = 1.0e-3\n",
    "\n",
    "geom.update_all(sheet)"
   ]
  },
  {
   "cell_type": "code",
   "execution_count": null,
   "metadata": {},
   "outputs": [],
   "source": [
    "sheet.settings"
   ]
  },
  {
   "cell_type": "markdown",
   "metadata": {},
   "source": [
    "### Gradient descent"
   ]
  },
  {
   "cell_type": "code",
   "execution_count": null,
   "metadata": {},
   "outputs": [],
   "source": [
    "solver_kw = {\n",
    "    'method': 'L-BFGS-B',\n",
    "    'options': {'ftol': 1e-8,\n",
    "                'gtol': 1e-8}\n",
    "}\n",
    "\n",
    "solver = QSSolver()\n",
    "res = solver.find_energy_min(sheet, geom, model, **solver_kw)\n",
    "\n",
    "print(res.message)\n",
    "fig, ax = sheet_view(sheet, coords=list('zx'), mode='quick')"
   ]
  },
  {
   "cell_type": "code",
   "execution_count": null,
   "metadata": {},
   "outputs": [],
   "source": [
    "ipv.clear()\n",
    "ipv_fig, meshes = sheet_view(sheet, coords=list('zxy'),\n",
    "                             mode='3D', **draw_specs(sheet))\n",
    "\n",
    "ipv_fig"
   ]
  },
  {
   "cell_type": "code",
   "execution_count": null,
   "metadata": {},
   "outputs": [],
   "source": [
    "# Define ovoid mesoderm\n",
    "define_mesoderm(sheet, a=15, b=6.)\n",
    "\n",
    "mesoderm = sheet.face_df[sheet.face_df.is_mesoderm].index\n",
    "delaminating_cells = sheet.face_df[sheet.face_df['is_mesoderm']].index\n",
    "sheet.face_df['is_relaxation'] = False\n",
    "print('number of apoptotic cells: {}'.format(delaminating_cells.size))\n",
    "fig, axes = mesoderm_position(sheet, delaminating_cells)"
   ]
  },
  {
   "cell_type": "code",
   "execution_count": null,
   "metadata": {},
   "outputs": [],
   "source": []
  },
  {
   "cell_type": "code",
   "execution_count": null,
   "metadata": {},
   "outputs": [],
   "source": [
    "progress = IntProgress(min=0)\n",
    "\n",
    "\n",
    "def run_sim(sheet, mesoderm, geom, model, dirname, progress, stop=15):\n",
    "    progress.max = stop\n",
    "   \n",
    "    display(progress)\n",
    "    delaminating_cells = []\n",
    "    #Initiate manager\n",
    "    manager = EventManager('face', logfile='manager_log.txt')\n",
    "    sheet.face_df['enter_in_process'] = 0\n",
    "    \n",
    "    # Add all cells in constriction process \n",
    "    for f in sheet.face_df[sheet.face_df['is_mesoderm']].index :\n",
    "        x = sheet.face_df.loc[f, 'x']\n",
    "        c_rate = constriction_rate(x, max_constriction_rate=1.32, k=0.19, w=25)\n",
    "\n",
    "        delam_kwargs = sheet.settings[\"delamination\"].copy()\n",
    "        delam_kwargs.update(\n",
    "            {\n",
    "                'face_id':f,\n",
    "                'contract_rate': c_rate,\n",
    "                'current_traction': 0,\n",
    "                'max_traction':30\n",
    "            }\n",
    "        )\n",
    "        manager.append(constriction, **delam_kwargs)\n",
    "    \n",
    "    while manager.current and manager.clock < stop:\n",
    "\n",
    "        # Clean radial tension on all vertices\n",
    "        sheet.vert_df['radial_tension'] = 0\n",
    "        manager.execute(sheet)\n",
    "        res = solver.find_energy_min(sheet, geom, model, **solver_kw)\n",
    "        \n",
    "        # Save result at each time step.\n",
    "        figname = os.path.join(\n",
    "            dirname, 'invagination_{:04d}.png'.format(manager.clock))\n",
    "        hdfname = figname[:-3] + 'hf5'\n",
    "        hdf5.save_datasets(hdfname, sheet)\n",
    "\n",
    "        manager.update()\n",
    "        manager.clock += 1\n",
    "        progress.value = manager.clock\n",
    "    \n",
    "    progress.stop = manager.clock\n",
    "    return sheet"
   ]
  },
  {
   "cell_type": "markdown",
   "metadata": {},
   "source": [
    "## Simulation of the invagination\n",
    "\n",
    "Take a few minutes"
   ]
  },
  {
   "cell_type": "code",
   "execution_count": null,
   "metadata": {
    "scrolled": false
   },
   "outputs": [],
   "source": [
    "\n",
    "contractility_rate = 2\n",
    "critical_area = 5\n",
    "radial_tension = 40\n",
    "\n",
    "# Directory definition \n",
    "dirname = '{}_contractility_{}_critical_area_{}_radialtension'.format(\n",
    "            contractility_rate, critical_area, radial_tension)\n",
    "dirname = sim_save_dir/dirname\n",
    "\n",
    "print('starting {}'.format(dirname))\n",
    "try:\n",
    "    os.mkdir(dirname)\n",
    "except IOError:\n",
    "    pass\n",
    "\n",
    "settings = {'contract_rate': contractility_rate,\n",
    "            'critical_area': critical_area,\n",
    "            'radial_tension': radial_tension,\n",
    "            'nb_iteration': 10,\n",
    "            'contract_neighbors':True,\n",
    "            'contract_span':1,\n",
    "            'geom': geom}\n",
    "\n",
    "\n",
    "# Add some information to the sheet\n",
    "sheet.face_df['id'] = sheet.face_df.index.values\n",
    "sheet.settings['delamination'] = settings\n",
    "\n",
    "sheet = run_sim(sheet, delaminating_cells, \n",
    "                 geom, model, dirname, progress)\n",
    "\n",
    "print('{} done'.format(dirname))\n",
    "print('~~~~~~~~~~~~~~~~~~~~~\\n')\n",
    "    "
   ]
  },
  {
   "cell_type": "markdown",
   "metadata": {},
   "source": [
    "### 3D viewer of the invagination process\n"
   ]
  },
  {
   "cell_type": "code",
   "execution_count": null,
   "metadata": {},
   "outputs": [],
   "source": [
    "hfs = [f  for f in os.listdir(dirname) if f.endswith('hf5')]\n",
    "hfs.sort()\n",
    "from tyssue.draw.ipv_draw import edge_mesh, face_mesh\n",
    "\n",
    "def get_meshes(dirname, hdf_file):\n",
    "    dsets = hdf5.load_datasets(os.path.join(dirname, hdf_file),\n",
    "                               data_names=['vert', 'edge', 'face'])\n",
    "        \n",
    "    sheet = Sheet('ellipse', dsets)\n",
    "    faces = face_mesh(sheet, coords=['x', 'y', 'z'],\n",
    "                      color=sheet.face_df['area'],\n",
    "                      color_range=(0, 30))\n",
    "    \n",
    "    edges = edge_mesh(sheet, coords=['x', 'y', 'z'],\n",
    "                      color=sheet.vert_df.y)\n",
    "    return faces, edges\n",
    "\n",
    "def browse_sheets(dirname, hfs):\n",
    "    n = len(hfs)\n",
    "    ipv.clear()\n",
    "    fig = ipv.gcf()\n",
    "    meshes = get_meshes(dirname, hfs[0])\n",
    "    fig.meshes = fig.meshes + list(meshes)\n",
    "    \n",
    "    def view_sheet(i):\n",
    "        fig.animation = 0\n",
    "\n",
    "        faces, edges = get_meshes(dirname, hfs[i])\n",
    "        fig.meshes[0].x = faces.x\n",
    "        fig.meshes[0].y = faces.y\n",
    "        fig.meshes[0].z = faces.z\n",
    "        fig.meshes[0].color = faces.color\n",
    "        fig.meshes[0].triangles = faces.triangles\n",
    "\n",
    "        fig.meshes[1].x = edges.x\n",
    "        fig.meshes[1].y = edges.y\n",
    "        fig.meshes[1].z = edges.z\n",
    "        fig.meshes[1].color = edges.color\n",
    "        fig.meshes[1].lines = edges.lines\n",
    "\n",
    "        lim_inf = sheet.vert_df[sheet.coords].min().min()\n",
    "        lim_sup = sheet.vert_df[sheet.coords].max().max()\n",
    "        ipv.xyzlim(lim_inf, lim_sup)\n",
    "    ipv.show()\n",
    "    interact(view_sheet, i=(0, n-1))\n"
   ]
  },
  {
   "cell_type": "code",
   "execution_count": null,
   "metadata": {},
   "outputs": [],
   "source": [
    "browse_sheets(dirname, hfs)"
   ]
  },
  {
   "cell_type": "code",
   "execution_count": null,
   "metadata": {},
   "outputs": [],
   "source": []
  }
 ],
 "metadata": {
  "kernelspec": {
   "display_name": "Python 3",
   "language": "python",
   "name": "python3"
  },
  "language_info": {
   "codemirror_mode": {
    "name": "ipython",
    "version": 3
   },
   "file_extension": ".py",
   "mimetype": "text/x-python",
   "name": "python",
   "nbconvert_exporter": "python",
   "pygments_lexer": "ipython3",
   "version": "3.7.3"
  }
 },
 "nbformat": 4,
 "nbformat_minor": 2
}
