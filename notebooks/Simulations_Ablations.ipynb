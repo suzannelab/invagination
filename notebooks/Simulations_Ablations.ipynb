{
 "cells": [
  {
   "cell_type": "code",
   "execution_count": null,
   "metadata": {
    "scrolled": false
   },
   "outputs": [],
   "source": [
    "# Import \n",
    "import os\n",
    "import time\n",
    "import datetime\n",
    "\n",
    "from pathlib import Path\n",
    "\n",
    "from invagination.ellipsoid import initiate_ellipsoid\n",
    "from invagination.delamination import delamination_process\n",
    "\n",
    "import matplotlib.pyplot as plt\n",
    "%matplotlib inline"
   ]
  },
  {
   "cell_type": "code",
   "execution_count": null,
   "metadata": {},
   "outputs": [],
   "source": [
    "today = datetime.date.today()\n",
    "SIM_DIR = Path('/home/admin-suz/Documents/Simulations/')\n",
    "sim_save_dir = SIM_DIR/f'{today.isoformat()}_TEST0'\n",
    "\n",
    "try:\n",
    "    os.mkdir(sim_save_dir)\n",
    "except FileExistsError:\n",
    "    pass"
   ]
  },
  {
   "cell_type": "code",
   "execution_count": null,
   "metadata": {},
   "outputs": [],
   "source": []
  },
  {
   "cell_type": "code",
   "execution_count": null,
   "metadata": {},
   "outputs": [],
   "source": [
    "# Create ellipsoid tissue \n",
    "sheet = initiate_ellipsoid('../data/hf5/ellipsoid_sheet_init.hf5',\n",
    "                         '../data/json/ellipsoid.json')\n",
    "\n",
    "delaminating_cells = sheet.face_df[sheet.face_df['is_mesoderm']].index\n",
    "relaxation_cells = sheet.face_df[sheet.face_df['is_relaxation']].index"
   ]
  },
  {
   "cell_type": "code",
   "execution_count": null,
   "metadata": {},
   "outputs": [],
   "source": []
  },
  {
   "cell_type": "markdown",
   "metadata": {},
   "source": [
    "## Control"
   ]
  },
  {
   "cell_type": "code",
   "execution_count": null,
   "metadata": {
    "scrolled": true
   },
   "outputs": [],
   "source": [
    "from datetime import datetime\n",
    "\n",
    "global_start=datetime.now()\n",
    "print (\"start : \" + str(global_start))\n",
    "\n",
    "profile_width = 25\n",
    "k = 0.19\n",
    "nb_iter = 30\n",
    "critical_area = 5\n",
    "\n",
    "radial_tension = [30]\n",
    "contractility_percent = [8]\n",
    "contractility_rate = [1+c/100 for c in contractility_percent]\n",
    "\n",
    "for rad in radial_tension:\n",
    "    for contracts in contractility_rate:\n",
    "        print ('rad : ' + str(rad)+ '\\tcontract : ' + str(contracts))\n",
    "        for iteration in range (0, 1):\n",
    "            delamination_process(sheet, contracts, critical_area,\n",
    "                                 rad, nb_iter,\n",
    "                                profile_width, k, iteration)\n",
    "        \n",
    "        \n",
    "        \n",
    "global_end = datetime.now()\n",
    "print (\"end : \" + str(global_end))\n",
    "print ('Duree totale d execution : \\n\\t\\t')\n",
    "print (global_end-global_start)"
   ]
  },
  {
   "cell_type": "markdown",
   "metadata": {},
   "source": [
    "## Cable cut"
   ]
  },
  {
   "cell_type": "code",
   "execution_count": null,
   "metadata": {},
   "outputs": [],
   "source": [
    "from datetime import datetime\n",
    "\n",
    "global_start=datetime.now()\n",
    "print (\"start : \" + str(global_start))\n",
    "\n",
    "profile_width = 25\n",
    "k = 0.19\n",
    "nb_iter = 30\n",
    "critical_area = 5\n",
    "\n",
    "radial_tension = [30]\n",
    "contractility_percent = [8]\n",
    "contractility_rate = [1+c/100 for c in contractility_percent]\n",
    "\n",
    "for rad in radial_tension:\n",
    "    for contracts in contractility_rate:\n",
    "        for iteration in range (1, 6):\n",
    "            print ('rad : ' + str(rad)+ '\\tcontract : ' + str(contracts))\n",
    "            delamination_process(sim_save_dir, sheet, contracts, critical_area,\n",
    "                                 rad, nb_iter,\n",
    "                                profile_width, k, iteration, \n",
    "                                cable_cut=True)\n",
    "\n",
    "        \n",
    "        \n",
    "global_end = datetime.now()\n",
    "print (\"end : \" + str(global_end))\n",
    "print ('Duree totale d execution : \\n\\t\\t')\n",
    "print (global_end-global_start)"
   ]
  },
  {
   "cell_type": "markdown",
   "metadata": {},
   "source": [
    "## Posterior apical cut"
   ]
  },
  {
   "cell_type": "code",
   "execution_count": null,
   "metadata": {},
   "outputs": [],
   "source": [
    "from datetime import datetime\n",
    "\n",
    "global_start=datetime.now()\n",
    "print (\"start : \" + str(global_start))\n",
    "\n",
    "profile_width = 25\n",
    "k = 0.19\n",
    "nb_iter = 30\n",
    "critical_area = 5\n",
    "\n",
    "radial_tension = [30]\n",
    "contractility_percent = [8]\n",
    "contractility_rate = [1+c/100 for c in contractility_percent]\n",
    "\n",
    "for rad in radial_tension:\n",
    "    for contracts in contractility_rate:\n",
    "        print ('rad : ' + str(rad)+ '\\tcontract : ' + str(contracts))\n",
    "        for iteration in range (0, 6):\n",
    "            delamination_process(sim_save_dir, sheet, contracts, critical_area,\n",
    "                                 rad, nb_iter,\n",
    "                                profile_width, k, iteration,\n",
    "                                cable_cut=False, apical_cut=True, nb_apical_cut=1)\n",
    "        \n",
    "        \n",
    "        \n",
    "global_end = datetime.now()\n",
    "print (\"end : \" + str(global_end))\n",
    "print ('Duree totale d execution : \\n\\t\\t')\n",
    "print (global_end-global_start)"
   ]
  },
  {
   "cell_type": "markdown",
   "metadata": {},
   "source": [
    "## Posterior apical cut & Cable cut"
   ]
  },
  {
   "cell_type": "code",
   "execution_count": null,
   "metadata": {},
   "outputs": [],
   "source": [
    "from datetime import datetime\n",
    "\n",
    "global_start=datetime.now()\n",
    "print (\"start : \" + str(global_start))\n",
    "\n",
    "profile_width = 25\n",
    "k = 0.19\n",
    "nb_iter = 30\n",
    "critical_area = 5\n",
    "\n",
    "radial_tension = [30]\n",
    "contractility_percent = [8]\n",
    "contractility_rate = [1+c/100 for c in contractility_percent]\n",
    "\n",
    "for rad in radial_tension:\n",
    "    for contracts in contractility_rate:\n",
    "        print ('rad : ' + str(rad)+ '\\tcontract : ' + str(contracts))\n",
    "        for iteration in range (1, 2):\n",
    "            delamination_process(sheet, contracts, critical_area,\n",
    "                                 rad, nb_iter,\n",
    "                                profile_width, k, iteration,\n",
    "                                cable_cut=True, apical_cut=True, nb_apical_cut=1)\n",
    "        \n",
    "        \n",
    "        \n",
    "global_end = datetime.now()\n",
    "print (\"end : \" + str(global_end))\n",
    "print ('Duree totale d execution : \\n\\t\\t')\n",
    "print (global_end-global_start)"
   ]
  },
  {
   "cell_type": "markdown",
   "metadata": {},
   "source": [
    "## Anterior Posterior apical cut "
   ]
  },
  {
   "cell_type": "code",
   "execution_count": null,
   "metadata": {},
   "outputs": [],
   "source": [
    "from datetime import datetime\n",
    "\n",
    "global_start=datetime.now()\n",
    "print (\"start : \" + str(global_start))\n",
    "\n",
    "profile_width = 25\n",
    "k = 0.19\n",
    "nb_iter = 30\n",
    "critical_area = 5\n",
    "\n",
    "radial_tension = [30]\n",
    "contractility_percent = [8]\n",
    "contractility_rate = [1+c/100 for c in contractility_percent]\n",
    "\n",
    "for rad in radial_tension:\n",
    "    for contracts in contractility_rate:\n",
    "        print ('rad : ' + str(rad)+ '\\tcontract : ' + str(contracts))\n",
    "        for iteration in range (0, 6):\n",
    "            delamination_process(sheet, contracts, critical_area,\n",
    "                                 rad, nb_iter,\n",
    "                                profile_width, k, iteration\n",
    "                                cable_cut=False, apical_cut=True, nb_apical_cut=2)\n",
    "        \n",
    "        \n",
    "        \n",
    "global_end = datetime.now()\n",
    "print (\"end : \" + str(global_end))\n",
    "print ('Duree totale d execution : \\n\\t\\t')\n",
    "print (global_end-global_start)"
   ]
  },
  {
   "cell_type": "markdown",
   "metadata": {},
   "source": [
    "## Anterior Posterior apical cut & Cable cut"
   ]
  },
  {
   "cell_type": "code",
   "execution_count": null,
   "metadata": {},
   "outputs": [],
   "source": [
    "from datetime import datetime\n",
    "\n",
    "global_start=datetime.now()\n",
    "print (\"start : \" + str(global_start))\n",
    "\n",
    "profile_width = 25\n",
    "k = 0.19\n",
    "nb_iter = 30\n",
    "critical_area = 5\n",
    "\n",
    "radial_tension = [30]\n",
    "contractility_percent = [8]\n",
    "contractility_rate = [1+c/100 for c in contractility_percent]\n",
    "\n",
    "for rad in radial_tension:\n",
    "    for contracts in contractility_rate:\n",
    "        print ('rad : ' + str(rad)+ '\\tcontract : ' + str(contracts))\n",
    "        for iteration in range (0, 6):\n",
    "            delamination_process(sheet, contracts, critical_area,\n",
    "                                 rad, nb_iter,\n",
    "                                profile_width, k, iteration\n",
    "                                cable_cut=True, apical_cut=True, nb_apical_cut=2)\n",
    "        \n",
    "        \n",
    "        \n",
    "global_end = datetime.now()\n",
    "print (\"end : \" + str(global_end))\n",
    "print ('Duree totale d execution : \\n\\t\\t')\n",
    "print (global_end-global_start)"
   ]
  },
  {
   "cell_type": "code",
   "execution_count": null,
   "metadata": {},
   "outputs": [],
   "source": []
  }
 ],
 "metadata": {
  "anaconda-cloud": {},
  "kernelspec": {
   "display_name": "Python 3",
   "language": "python",
   "name": "python3"
  },
  "language_info": {
   "codemirror_mode": {
    "name": "ipython",
    "version": 3
   },
   "file_extension": ".py",
   "mimetype": "text/x-python",
   "name": "python",
   "nbconvert_exporter": "python",
   "pygments_lexer": "ipython3",
   "version": "3.7.6"
  },
  "widgets": {
   "state": {
    "8183ffe4462f409db908350a706d48c5": {
     "views": [
      {
       "cell_index": 21
      }
     ]
    }
   },
   "version": "1.2.0"
  }
 },
 "nbformat": 4,
 "nbformat_minor": 1
}
